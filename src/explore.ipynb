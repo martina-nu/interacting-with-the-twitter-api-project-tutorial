{
    "cells": [
        {
            "cell_type": "code",
            "execution_count": 331,
            "metadata": {},
            "outputs": [],
            "source": [
                "#Import\n",
                "\n",
                "from dotenv import load_dotenv\n",
                "import os \n",
                "import tweepy\n",
                "import requests\n",
                "import pandas as pd\n",
                "import matplotlib.pyplot as plt\n",
                "import seaborn as sns\n",
                "import sqlite3\n",
                "import re\n"
            ]
        },
        {
            "cell_type": "code",
            "execution_count": 332,
            "metadata": {},
            "outputs": [],
            "source": [
                "#Step 3: Environment variables\n",
                "\n",
                "load_dotenv()                    \n",
                "\n",
                "\n",
                "consumer_key = os.environ.get('CONSUMER_KEY')\n",
                "consumer_secret = os.environ.get('CONSUMER_SECRET')\n",
                "access_token = os.environ.get('ACCESS_TOKEN')\n",
                "access_token_secret = os.environ.get('ACCESS_TOKEN_SECRET')\n",
                "bearer_token = os.environ.get('BEARER_TOKEN')"
            ]
        },
        {
            "cell_type": "code",
            "execution_count": 333,
            "metadata": {},
            "outputs": [],
            "source": [
                "# Step 4: Innitialize the tweepy library\n",
                "client = tweepy.Client( bearer_token=bearer_token, \n",
                "                        consumer_key=consumer_key, \n",
                "                        consumer_secret=consumer_secret, \n",
                "                        access_token=access_token, \n",
                "                        access_token_secret=access_token_secret, \n",
                "                        return_type = requests.Response,\n",
                "                        wait_on_rate_limit=True)"
            ]
        },
        {
            "cell_type": "code",
            "execution_count": 334,
            "metadata": {},
            "outputs": [],
            "source": [
                "#step 5: Start making requests to the API\n",
                "\n",
                "query = '#100daysofcode (pandas OR python) -is:retweet'\n",
                "\n",
                "tweets = client.search_recent_tweets(query=query, \n",
                "                                    tweet_fields=['author_id','created_at','lang'],\n",
                "                                     max_results=100)"
            ]
        },
        {
            "cell_type": "code",
            "execution_count": 335,
            "metadata": {},
            "outputs": [],
            "source": [
                "# Step 6: Convert to pandas Dataframe\n",
                "\n",
                "tweets_dict = tweets.json() #Save tweets as dictionary"
            ]
        },
        {
            "cell_type": "code",
            "execution_count": 336,
            "metadata": {},
            "outputs": [],
            "source": [
                "data = tweets_dict['data'] #Extract \"data\" value from dictionary"
            ]
        },
        {
            "cell_type": "code",
            "execution_count": 337,
            "metadata": {},
            "outputs": [],
            "source": [
                "df = pd.json_normalize(data) #Transform to pandas df"
            ]
        },
        {
            "cell_type": "code",
            "execution_count": 338,
            "metadata": {},
            "outputs": [
                {
                    "data": {
                        "text/html": [
                            "<div>\n",
                            "<style scoped>\n",
                            "    .dataframe tbody tr th:only-of-type {\n",
                            "        vertical-align: middle;\n",
                            "    }\n",
                            "\n",
                            "    .dataframe tbody tr th {\n",
                            "        vertical-align: top;\n",
                            "    }\n",
                            "\n",
                            "    .dataframe thead th {\n",
                            "        text-align: right;\n",
                            "    }\n",
                            "</style>\n",
                            "<table border=\"1\" class=\"dataframe\">\n",
                            "  <thead>\n",
                            "    <tr style=\"text-align: right;\">\n",
                            "      <th></th>\n",
                            "      <th>author_id</th>\n",
                            "      <th>created_at</th>\n",
                            "      <th>text</th>\n",
                            "      <th>lang</th>\n",
                            "      <th>id</th>\n",
                            "    </tr>\n",
                            "  </thead>\n",
                            "  <tbody>\n",
                            "    <tr>\n",
                            "      <th>0</th>\n",
                            "      <td>1366993886141288448</td>\n",
                            "      <td>2022-06-29T00:30:09.000Z</td>\n",
                            "      <td>The UK wants to boost AI development by removi...</td>\n",
                            "      <td>en</td>\n",
                            "      <td>1541942059921195013</td>\n",
                            "    </tr>\n",
                            "    <tr>\n",
                            "      <th>1</th>\n",
                            "      <td>1249156366897463296</td>\n",
                            "      <td>2022-06-29T00:30:04.000Z</td>\n",
                            "      <td>Grade A+ assured in any timed paper\\n#Essay du...</td>\n",
                            "      <td>en</td>\n",
                            "      <td>1541942036621889537</td>\n",
                            "    </tr>\n",
                            "    <tr>\n",
                            "      <th>2</th>\n",
                            "      <td>1249156366897463296</td>\n",
                            "      <td>2022-06-29T00:30:03.000Z</td>\n",
                            "      <td>Grade A+ assured in any timed paper\\n#Essay du...</td>\n",
                            "      <td>en</td>\n",
                            "      <td>1541942033291550720</td>\n",
                            "    </tr>\n",
                            "    <tr>\n",
                            "      <th>3</th>\n",
                            "      <td>1332714745871421443</td>\n",
                            "      <td>2022-06-29T00:30:00.000Z</td>\n",
                            "      <td>NEED a #JOB?\\nSign up now https://t.co/o7lVlsC...</td>\n",
                            "      <td>en</td>\n",
                            "      <td>1541942021811621888</td>\n",
                            "    </tr>\n",
                            "    <tr>\n",
                            "      <th>4</th>\n",
                            "      <td>1528856711725031425</td>\n",
                            "      <td>2022-06-29T00:28:03.000Z</td>\n",
                            "      <td>https://t.co/9LAEL3AN8r \\n\\n#programming #intr...</td>\n",
                            "      <td>en</td>\n",
                            "      <td>1541941530495275008</td>\n",
                            "    </tr>\n",
                            "  </tbody>\n",
                            "</table>\n",
                            "</div>"
                        ],
                        "text/plain": [
                            "             author_id                created_at  \\\n",
                            "0  1366993886141288448  2022-06-29T00:30:09.000Z   \n",
                            "1  1249156366897463296  2022-06-29T00:30:04.000Z   \n",
                            "2  1249156366897463296  2022-06-29T00:30:03.000Z   \n",
                            "3  1332714745871421443  2022-06-29T00:30:00.000Z   \n",
                            "4  1528856711725031425  2022-06-29T00:28:03.000Z   \n",
                            "\n",
                            "                                                text lang                   id  \n",
                            "0  The UK wants to boost AI development by removi...   en  1541942059921195013  \n",
                            "1  Grade A+ assured in any timed paper\\n#Essay du...   en  1541942036621889537  \n",
                            "2  Grade A+ assured in any timed paper\\n#Essay du...   en  1541942033291550720  \n",
                            "3  NEED a #JOB?\\nSign up now https://t.co/o7lVlsC...   en  1541942021811621888  \n",
                            "4  https://t.co/9LAEL3AN8r \\n\\n#programming #intr...   en  1541941530495275008  "
                        ]
                    },
                    "execution_count": 338,
                    "metadata": {},
                    "output_type": "execute_result"
                }
            ],
            "source": [
                "#Take a look at the dataframe to make sure is correct `df.head()`\n",
                "\n",
                "df.head()"
            ]
        },
        {
            "cell_type": "code",
            "execution_count": 339,
            "metadata": {},
            "outputs": [],
            "source": [
                "#Save data to csv\n",
                "df.to_csv(\"coding-tweets.csv\")"
            ]
        },
        {
            "cell_type": "code",
            "execution_count": 340,
            "metadata": {},
            "outputs": [],
            "source": [
                "#Step 7: Search for the words\n",
                "\n",
                "#text analysis\n",
                "\n",
                "def word_in_text(word, text):\n",
                "    word = word.lower()\n",
                "    text = text.lower()\n",
                "    match = re.search(word, text)\n",
                "\n",
                "    if match:\n",
                "        return True\n",
                "    return False\n"
            ]
        },
        {
            "cell_type": "code",
            "execution_count": 343,
            "metadata": {},
            "outputs": [
                {
                    "name": "stdout",
                    "output_type": "stream",
                    "text": [
                        "The word python was mentioned 100 times\n",
                        "The word pandas was mentioned 1 time\n"
                    ]
                }
            ],
            "source": [
                "pandas = 0\n",
                "python = 0\n",
                "\n",
                "for index, row in df.iterrows():\n",
                "    pandas += word_in_text('pandas', row['text'])\n",
                "    python += word_in_text('python', row['text'])\n",
                "\n",
                "print(f\"The word python was mentioned {python} times\")\n",
                "print(f\"The word pandas was mentioned {pandas} time\")"
            ]
        },
        {
            "cell_type": "code",
            "execution_count": 342,
            "metadata": {},
            "outputs": [
                {
                    "name": "stderr",
                    "output_type": "stream",
                    "text": [
                        "/home/gitpod/.pyenv/versions/3.8.13/lib/python3.8/site-packages/seaborn/_decorators.py:36: FutureWarning: Pass the following variables as keyword args: x, y. From version 0.12, the only valid positional argument will be `data`, and passing other arguments without an explicit keyword will result in an error or misinterpretation.\n",
                        "  warnings.warn(\n"
                    ]
                },
                {
                    "data": {
                        "image/png": "[encoded data removed]",
                        "text/plain": [
                            "<Figure size 432x288 with 1 Axes>"
                        ]
                    },
                    "metadata": {},
                    "output_type": "display_data"
                }
            ],
            "source": [
                "#Visualize data\n",
                "\n",
                "\n",
                "# Set seaborn style\n",
                "sns.set(color_codes=True)\n",
                "\n",
                "# Create a list of labels:cd\n",
                "cd = ['pandas', 'python']\n",
                "\n",
                "# Plot the bar chart\n",
                "ax = sns.barplot(cd, [pandas, python])\n",
                "ax.set(ylabel=\"number of tweets\", title='Number of tweets in which pandas and python are mentioned.')\n",
                "\n",
                "plt.show()"
            ]
        }
    ],
    "metadata": {
        "kernelspec": {
            "display_name": "Python 3.8.13 64-bit ('3.8.13')",
            "language": "python",
            "name": "python3"
        },
        "language_info": {
            "codemirror_mode": {
                "name": "ipython",
                "version": 3
            },
            "file_extension": ".py",
            "mimetype": "text/x-python",
            "name": "python",
            "nbconvert_exporter": "python",
            "pygments_lexer": "ipython3",
            "version": "3.8.13"
        },
        "orig_nbformat": 4,
        "vscode": {
            "interpreter": {
                "hash": "110cc1dee26208153f2972f08a2ad52b6a56238dc66d48e87fb757ef2996db56"
            }
        }
    },
    "nbformat": 4,
    "nbformat_minor": 2
}
